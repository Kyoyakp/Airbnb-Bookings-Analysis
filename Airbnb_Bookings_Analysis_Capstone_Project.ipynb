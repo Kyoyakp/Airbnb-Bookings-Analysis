{
  "nbformat": 4,
  "nbformat_minor": 0,
  "metadata": {
    "kernelspec": {
      "display_name": "Python 3",
      "language": "python",
      "name": "python3"
    },
    "language_info": {
      "codemirror_mode": {
        "name": "ipython",
        "version": 3
      },
      "file_extension": ".py",
      "mimetype": "text/x-python",
      "name": "python",
      "nbconvert_exporter": "python",
      "pygments_lexer": "ipython3",
      "version": "3.6.6"
    },
    "colab": {
      "name": "Airbnb Bookings Analysis - Capstone Project.ipynb",
      "provenance": [],
      "include_colab_link": true
    }
  },
  "cells": [
    {
      "cell_type": "markdown",
      "metadata": {
        "id": "view-in-github",
        "colab_type": "text"
      },
      "source": [
        "<a href=\"https://colab.research.google.com/github/Kyoyakp/Airbnb-Bookings-Analysis/blob/main/Airbnb_Bookings_Analysis_Capstone_Project.ipynb\" target=\"_parent\"><img src=\"https://colab.research.google.com/assets/colab-badge.svg\" alt=\"Open In Colab\"/></a>"
      ]
    },
    {
      "cell_type": "markdown",
      "metadata": {
        "id": "Y06xIdG26kRF"
      },
      "source": [
        "## <b> Since 2008, guests and hosts have used Airbnb to expand on traveling possibilities and present a more unique, personalized way of experiencing the world. Today, Airbnb became one of a kind service that is used and recognized by the whole world. Data analysis on millions of listings provided through Airbnb is a crucial factor for the company. These millions of listings generate a lot of data - data that can be analyzed and used for security, business decisions, understanding of customers' and providers' (hosts) behavior and performance on the platform, guiding marketing initiatives, implementation of innovative additional services and much more. </b>\n",
        "\n",
        "## <b>This dataset has around 49,000 observations in it with 16 columns and it is a mix between categorical and numeric values. </b>\n",
        "\n",
        "## <b> Explore and analyze the data to discover key understandings (not limited to these) such as : \n",
        "* What can we learn about different hosts and areas?\n",
        "* What can we learn from predictions? (ex: locations, prices, reviews, etc)\n",
        "* Which hosts are the busiest and why?\n",
        "* Is there any noticeable difference of traffic among different areas and what could be the reason for it? </b>"
      ]
    },
    {
      "cell_type": "markdown",
      "metadata": {
        "id": "cXvpMGd_DTSN"
      },
      "source": [
        "# Data Explore"
      ]
    },
    {
      "cell_type": "code",
      "metadata": {
        "colab": {
          "base_uri": "https://localhost:8080/"
        },
        "id": "sMjygFMd9UWG",
        "outputId": "bac10a0d-60df-4018-95d4-ebb35aaa43be"
      },
      "source": [
        "from google.colab import drive\n",
        "drive.mount('/content/drive')"
      ],
      "execution_count": 1,
      "outputs": [
        {
          "output_type": "stream",
          "name": "stdout",
          "text": [
            "Mounted at /content/drive\n"
          ]
        }
      ]
    },
    {
      "cell_type": "code",
      "metadata": {
        "id": "dByMsuzT8Tnw"
      },
      "source": [
        "import pandas as pd \n",
        "import numpy as np"
      ],
      "execution_count": 2,
      "outputs": []
    },
    {
      "cell_type": "code",
      "metadata": {
        "id": "2cRwrDeg9hHZ"
      },
      "source": [
        "df = pd.read_csv(\"/content/drive/MyDrive/Colab Notebooks/Airbnb NYC 2019.csv\")"
      ],
      "execution_count": 67,
      "outputs": []
    },
    {
      "cell_type": "code",
      "metadata": {
        "colab": {
          "base_uri": "https://localhost:8080/"
        },
        "id": "_fOEj2739smM",
        "outputId": "6fdb5208-b199-4ebd-a87d-00a797888b3d"
      },
      "source": [
        "df.info()"
      ],
      "execution_count": 7,
      "outputs": [
        {
          "output_type": "stream",
          "name": "stdout",
          "text": [
            "<class 'pandas.core.frame.DataFrame'>\n",
            "RangeIndex: 48895 entries, 0 to 48894\n",
            "Data columns (total 16 columns):\n",
            " #   Column                          Non-Null Count  Dtype  \n",
            "---  ------                          --------------  -----  \n",
            " 0   id                              48895 non-null  int64  \n",
            " 1   name                            48879 non-null  object \n",
            " 2   host_id                         48895 non-null  int64  \n",
            " 3   host_name                       48874 non-null  object \n",
            " 4   neighbourhood_group             48895 non-null  object \n",
            " 5   neighbourhood                   48895 non-null  object \n",
            " 6   latitude                        48895 non-null  float64\n",
            " 7   longitude                       48895 non-null  float64\n",
            " 8   room_type                       48895 non-null  object \n",
            " 9   price                           48895 non-null  int64  \n",
            " 10  minimum_nights                  48895 non-null  int64  \n",
            " 11  number_of_reviews               48895 non-null  int64  \n",
            " 12  last_review                     38843 non-null  object \n",
            " 13  reviews_per_month               38843 non-null  float64\n",
            " 14  calculated_host_listings_count  48895 non-null  int64  \n",
            " 15  availability_365                48895 non-null  int64  \n",
            "dtypes: float64(3), int64(7), object(6)\n",
            "memory usage: 6.0+ MB\n"
          ]
        }
      ]
    },
    {
      "cell_type": "code",
      "metadata": {
        "colab": {
          "base_uri": "https://localhost:8080/",
          "height": 134
        },
        "id": "idmYDNRszbJ1",
        "outputId": "cfb49a14-4656-4941-d82e-48ca7e1f1784"
      },
      "source": [
        "df[df[\"name\"].unique()]"
      ],
      "execution_count": 62,
      "outputs": [
        {
          "output_type": "execute_result",
          "data": {
            "text/html": [
              "<div>\n",
              "<style scoped>\n",
              "    .dataframe tbody tr th:only-of-type {\n",
              "        vertical-align: middle;\n",
              "    }\n",
              "\n",
              "    .dataframe tbody tr th {\n",
              "        vertical-align: top;\n",
              "    }\n",
              "\n",
              "    .dataframe thead th {\n",
              "        text-align: right;\n",
              "    }\n",
              "</style>\n",
              "<table border=\"1\" class=\"dataframe\">\n",
              "  <thead>\n",
              "    <tr style=\"text-align: right;\">\n",
              "      <th></th>\n",
              "      <th>id</th>\n",
              "      <th>name</th>\n",
              "      <th>host_id</th>\n",
              "      <th>host_name</th>\n",
              "      <th>neighbourhood_group</th>\n",
              "      <th>neighbourhood</th>\n",
              "      <th>room_type</th>\n",
              "      <th>price</th>\n",
              "      <th>minimum_nights</th>\n",
              "      <th>number_of_reviews</th>\n",
              "      <th>last_review</th>\n",
              "      <th>reviews_per_month</th>\n",
              "      <th>calculated_host_listings_count</th>\n",
              "      <th>availability_365</th>\n",
              "    </tr>\n",
              "  </thead>\n",
              "  <tbody>\n",
              "    <tr>\n",
              "      <th>3</th>\n",
              "      <td>3831</td>\n",
              "      <td>Cozy Entire Floor of Brownstone</td>\n",
              "      <td>4869</td>\n",
              "      <td>LisaRoxanne</td>\n",
              "      <td>Brooklyn</td>\n",
              "      <td>Clinton Hill</td>\n",
              "      <td>Entire home/apt</td>\n",
              "      <td>89</td>\n",
              "      <td>1</td>\n",
              "      <td>270</td>\n",
              "      <td>2019-07-05</td>\n",
              "      <td>4.64</td>\n",
              "      <td>1</td>\n",
              "      <td>194</td>\n",
              "    </tr>\n",
              "  </tbody>\n",
              "</table>\n",
              "</div>"
            ],
            "text/plain": [
              "     id  ... availability_365\n",
              "3  3831  ...              194\n",
              "\n",
              "[1 rows x 14 columns]"
            ]
          },
          "metadata": {},
          "execution_count": 62
        }
      ]
    },
    {
      "cell_type": "code",
      "metadata": {
        "colab": {
          "base_uri": "https://localhost:8080/"
        },
        "id": "wnORkniAAEbs",
        "outputId": "97e0d210-9357-4e81-d50c-59b5c9834525"
      },
      "source": [
        "len(df[\"name\"].unique())"
      ],
      "execution_count": 63,
      "outputs": [
        {
          "output_type": "execute_result",
          "data": {
            "text/plain": [
              "47906"
            ]
          },
          "metadata": {},
          "execution_count": 63
        }
      ]
    },
    {
      "cell_type": "code",
      "metadata": {
        "colab": {
          "base_uri": "https://localhost:8080/",
          "height": 926
        },
        "id": "SNfcoFYIBNxW",
        "outputId": "12b7d7d6-3ca9-4ceb-eb2b-67307d95d360"
      },
      "source": [
        "df[df['name']=='Hillside Hotel']"
      ],
      "execution_count": 68,
      "outputs": [
        {
          "output_type": "execute_result",
          "data": {
            "text/html": [
              "<div>\n",
              "<style scoped>\n",
              "    .dataframe tbody tr th:only-of-type {\n",
              "        vertical-align: middle;\n",
              "    }\n",
              "\n",
              "    .dataframe tbody tr th {\n",
              "        vertical-align: top;\n",
              "    }\n",
              "\n",
              "    .dataframe thead th {\n",
              "        text-align: right;\n",
              "    }\n",
              "</style>\n",
              "<table border=\"1\" class=\"dataframe\">\n",
              "  <thead>\n",
              "    <tr style=\"text-align: right;\">\n",
              "      <th></th>\n",
              "      <th>id</th>\n",
              "      <th>name</th>\n",
              "      <th>host_id</th>\n",
              "      <th>host_name</th>\n",
              "      <th>neighbourhood_group</th>\n",
              "      <th>neighbourhood</th>\n",
              "      <th>latitude</th>\n",
              "      <th>longitude</th>\n",
              "      <th>room_type</th>\n",
              "      <th>price</th>\n",
              "      <th>minimum_nights</th>\n",
              "      <th>number_of_reviews</th>\n",
              "      <th>last_review</th>\n",
              "      <th>reviews_per_month</th>\n",
              "      <th>calculated_host_listings_count</th>\n",
              "      <th>availability_365</th>\n",
              "    </tr>\n",
              "  </thead>\n",
              "  <tbody>\n",
              "    <tr>\n",
              "      <th>24152</th>\n",
              "      <td>19456810</td>\n",
              "      <td>Hillside Hotel</td>\n",
              "      <td>134184451</td>\n",
              "      <td>Hillside Hotel</td>\n",
              "      <td>Queens</td>\n",
              "      <td>Briarwood</td>\n",
              "      <td>40.70454</td>\n",
              "      <td>-73.81549</td>\n",
              "      <td>Private room</td>\n",
              "      <td>93</td>\n",
              "      <td>1</td>\n",
              "      <td>2</td>\n",
              "      <td>2017-07-23</td>\n",
              "      <td>0.08</td>\n",
              "      <td>18</td>\n",
              "      <td>90</td>\n",
              "    </tr>\n",
              "    <tr>\n",
              "      <th>24607</th>\n",
              "      <td>19785737</td>\n",
              "      <td>Hillside Hotel</td>\n",
              "      <td>134184451</td>\n",
              "      <td>Hillside Hotel</td>\n",
              "      <td>Queens</td>\n",
              "      <td>Jamaica</td>\n",
              "      <td>40.70445</td>\n",
              "      <td>-73.81399</td>\n",
              "      <td>Private room</td>\n",
              "      <td>135</td>\n",
              "      <td>1</td>\n",
              "      <td>1</td>\n",
              "      <td>2017-10-08</td>\n",
              "      <td>0.05</td>\n",
              "      <td>18</td>\n",
              "      <td>180</td>\n",
              "    </tr>\n",
              "    <tr>\n",
              "      <th>26734</th>\n",
              "      <td>21231543</td>\n",
              "      <td>Hillside Hotel</td>\n",
              "      <td>134184451</td>\n",
              "      <td>Hillside Hotel</td>\n",
              "      <td>Queens</td>\n",
              "      <td>Jamaica</td>\n",
              "      <td>40.70428</td>\n",
              "      <td>-73.81353</td>\n",
              "      <td>Private room</td>\n",
              "      <td>135</td>\n",
              "      <td>1</td>\n",
              "      <td>0</td>\n",
              "      <td>NaN</td>\n",
              "      <td>NaN</td>\n",
              "      <td>18</td>\n",
              "      <td>365</td>\n",
              "    </tr>\n",
              "    <tr>\n",
              "      <th>26752</th>\n",
              "      <td>21243952</td>\n",
              "      <td>Hillside Hotel</td>\n",
              "      <td>134184451</td>\n",
              "      <td>Hillside Hotel</td>\n",
              "      <td>Queens</td>\n",
              "      <td>Jamaica</td>\n",
              "      <td>40.70288</td>\n",
              "      <td>-73.81531</td>\n",
              "      <td>Private room</td>\n",
              "      <td>135</td>\n",
              "      <td>1</td>\n",
              "      <td>1</td>\n",
              "      <td>2018-01-02</td>\n",
              "      <td>0.05</td>\n",
              "      <td>18</td>\n",
              "      <td>365</td>\n",
              "    </tr>\n",
              "    <tr>\n",
              "      <th>26753</th>\n",
              "      <td>21244035</td>\n",
              "      <td>Hillside Hotel</td>\n",
              "      <td>134184451</td>\n",
              "      <td>Hillside Hotel</td>\n",
              "      <td>Queens</td>\n",
              "      <td>Jamaica</td>\n",
              "      <td>40.70319</td>\n",
              "      <td>-73.81410</td>\n",
              "      <td>Private room</td>\n",
              "      <td>135</td>\n",
              "      <td>1</td>\n",
              "      <td>2</td>\n",
              "      <td>2018-06-10</td>\n",
              "      <td>0.09</td>\n",
              "      <td>18</td>\n",
              "      <td>365</td>\n",
              "    </tr>\n",
              "    <tr>\n",
              "      <th>26889</th>\n",
              "      <td>21311903</td>\n",
              "      <td>Hillside Hotel</td>\n",
              "      <td>134184451</td>\n",
              "      <td>Hillside Hotel</td>\n",
              "      <td>Queens</td>\n",
              "      <td>Jamaica</td>\n",
              "      <td>40.70258</td>\n",
              "      <td>-73.81510</td>\n",
              "      <td>Private room</td>\n",
              "      <td>135</td>\n",
              "      <td>1</td>\n",
              "      <td>0</td>\n",
              "      <td>NaN</td>\n",
              "      <td>NaN</td>\n",
              "      <td>18</td>\n",
              "      <td>365</td>\n",
              "    </tr>\n",
              "    <tr>\n",
              "      <th>26891</th>\n",
              "      <td>21312075</td>\n",
              "      <td>Hillside Hotel</td>\n",
              "      <td>134184451</td>\n",
              "      <td>Hillside Hotel</td>\n",
              "      <td>Queens</td>\n",
              "      <td>Jamaica</td>\n",
              "      <td>40.70333</td>\n",
              "      <td>-73.81380</td>\n",
              "      <td>Private room</td>\n",
              "      <td>135</td>\n",
              "      <td>1</td>\n",
              "      <td>0</td>\n",
              "      <td>NaN</td>\n",
              "      <td>NaN</td>\n",
              "      <td>18</td>\n",
              "      <td>365</td>\n",
              "    </tr>\n",
              "    <tr>\n",
              "      <th>26892</th>\n",
              "      <td>21312191</td>\n",
              "      <td>Hillside Hotel</td>\n",
              "      <td>134184451</td>\n",
              "      <td>Hillside Hotel</td>\n",
              "      <td>Queens</td>\n",
              "      <td>Jamaica</td>\n",
              "      <td>40.70259</td>\n",
              "      <td>-73.81415</td>\n",
              "      <td>Private room</td>\n",
              "      <td>135</td>\n",
              "      <td>1</td>\n",
              "      <td>0</td>\n",
              "      <td>NaN</td>\n",
              "      <td>NaN</td>\n",
              "      <td>18</td>\n",
              "      <td>365</td>\n",
              "    </tr>\n",
              "    <tr>\n",
              "      <th>26893</th>\n",
              "      <td>21312225</td>\n",
              "      <td>Hillside Hotel</td>\n",
              "      <td>134184451</td>\n",
              "      <td>Hillside Hotel</td>\n",
              "      <td>Queens</td>\n",
              "      <td>Jamaica</td>\n",
              "      <td>40.70262</td>\n",
              "      <td>-73.81526</td>\n",
              "      <td>Private room</td>\n",
              "      <td>135</td>\n",
              "      <td>1</td>\n",
              "      <td>1</td>\n",
              "      <td>2017-12-10</td>\n",
              "      <td>0.05</td>\n",
              "      <td>18</td>\n",
              "      <td>365</td>\n",
              "    </tr>\n",
              "    <tr>\n",
              "      <th>26894</th>\n",
              "      <td>21312283</td>\n",
              "      <td>Hillside Hotel</td>\n",
              "      <td>134184451</td>\n",
              "      <td>Hillside Hotel</td>\n",
              "      <td>Queens</td>\n",
              "      <td>Briarwood</td>\n",
              "      <td>40.70450</td>\n",
              "      <td>-73.81447</td>\n",
              "      <td>Private room</td>\n",
              "      <td>135</td>\n",
              "      <td>1</td>\n",
              "      <td>0</td>\n",
              "      <td>NaN</td>\n",
              "      <td>NaN</td>\n",
              "      <td>18</td>\n",
              "      <td>355</td>\n",
              "    </tr>\n",
              "    <tr>\n",
              "      <th>26895</th>\n",
              "      <td>21312330</td>\n",
              "      <td>Hillside Hotel</td>\n",
              "      <td>134184451</td>\n",
              "      <td>Hillside Hotel</td>\n",
              "      <td>Queens</td>\n",
              "      <td>Briarwood</td>\n",
              "      <td>40.70458</td>\n",
              "      <td>-73.81418</td>\n",
              "      <td>Private room</td>\n",
              "      <td>135</td>\n",
              "      <td>1</td>\n",
              "      <td>0</td>\n",
              "      <td>NaN</td>\n",
              "      <td>NaN</td>\n",
              "      <td>18</td>\n",
              "      <td>355</td>\n",
              "    </tr>\n",
              "    <tr>\n",
              "      <th>26896</th>\n",
              "      <td>21312403</td>\n",
              "      <td>Hillside Hotel</td>\n",
              "      <td>134184451</td>\n",
              "      <td>Hillside Hotel</td>\n",
              "      <td>Queens</td>\n",
              "      <td>Jamaica</td>\n",
              "      <td>40.70423</td>\n",
              "      <td>-73.81440</td>\n",
              "      <td>Private room</td>\n",
              "      <td>165</td>\n",
              "      <td>1</td>\n",
              "      <td>0</td>\n",
              "      <td>NaN</td>\n",
              "      <td>NaN</td>\n",
              "      <td>18</td>\n",
              "      <td>362</td>\n",
              "    </tr>\n",
              "    <tr>\n",
              "      <th>26897</th>\n",
              "      <td>21312440</td>\n",
              "      <td>Hillside Hotel</td>\n",
              "      <td>134184451</td>\n",
              "      <td>Hillside Hotel</td>\n",
              "      <td>Queens</td>\n",
              "      <td>Jamaica</td>\n",
              "      <td>40.70269</td>\n",
              "      <td>-73.81585</td>\n",
              "      <td>Private room</td>\n",
              "      <td>165</td>\n",
              "      <td>1</td>\n",
              "      <td>0</td>\n",
              "      <td>NaN</td>\n",
              "      <td>NaN</td>\n",
              "      <td>18</td>\n",
              "      <td>360</td>\n",
              "    </tr>\n",
              "    <tr>\n",
              "      <th>26898</th>\n",
              "      <td>21312495</td>\n",
              "      <td>Hillside Hotel</td>\n",
              "      <td>134184451</td>\n",
              "      <td>Hillside Hotel</td>\n",
              "      <td>Queens</td>\n",
              "      <td>Jamaica</td>\n",
              "      <td>40.70426</td>\n",
              "      <td>-73.81509</td>\n",
              "      <td>Private room</td>\n",
              "      <td>165</td>\n",
              "      <td>1</td>\n",
              "      <td>0</td>\n",
              "      <td>NaN</td>\n",
              "      <td>NaN</td>\n",
              "      <td>18</td>\n",
              "      <td>362</td>\n",
              "    </tr>\n",
              "    <tr>\n",
              "      <th>26899</th>\n",
              "      <td>21312549</td>\n",
              "      <td>Hillside Hotel</td>\n",
              "      <td>134184451</td>\n",
              "      <td>Hillside Hotel</td>\n",
              "      <td>Queens</td>\n",
              "      <td>Jamaica</td>\n",
              "      <td>40.70262</td>\n",
              "      <td>-73.81579</td>\n",
              "      <td>Private room</td>\n",
              "      <td>165</td>\n",
              "      <td>1</td>\n",
              "      <td>0</td>\n",
              "      <td>NaN</td>\n",
              "      <td>NaN</td>\n",
              "      <td>18</td>\n",
              "      <td>355</td>\n",
              "    </tr>\n",
              "    <tr>\n",
              "      <th>26900</th>\n",
              "      <td>21312595</td>\n",
              "      <td>Hillside Hotel</td>\n",
              "      <td>134184451</td>\n",
              "      <td>Hillside Hotel</td>\n",
              "      <td>Queens</td>\n",
              "      <td>Briarwood</td>\n",
              "      <td>40.70475</td>\n",
              "      <td>-73.81572</td>\n",
              "      <td>Private room</td>\n",
              "      <td>165</td>\n",
              "      <td>1</td>\n",
              "      <td>2</td>\n",
              "      <td>2018-01-01</td>\n",
              "      <td>0.09</td>\n",
              "      <td>18</td>\n",
              "      <td>355</td>\n",
              "    </tr>\n",
              "    <tr>\n",
              "      <th>26901</th>\n",
              "      <td>21312687</td>\n",
              "      <td>Hillside Hotel</td>\n",
              "      <td>134184451</td>\n",
              "      <td>Hillside Hotel</td>\n",
              "      <td>Queens</td>\n",
              "      <td>Briarwood</td>\n",
              "      <td>40.70471</td>\n",
              "      <td>-73.81542</td>\n",
              "      <td>Private room</td>\n",
              "      <td>135</td>\n",
              "      <td>1</td>\n",
              "      <td>3</td>\n",
              "      <td>2018-01-01</td>\n",
              "      <td>0.15</td>\n",
              "      <td>18</td>\n",
              "      <td>319</td>\n",
              "    </tr>\n",
              "    <tr>\n",
              "      <th>26902</th>\n",
              "      <td>21312732</td>\n",
              "      <td>Hillside Hotel</td>\n",
              "      <td>134184451</td>\n",
              "      <td>Hillside Hotel</td>\n",
              "      <td>Queens</td>\n",
              "      <td>Briarwood</td>\n",
              "      <td>40.70455</td>\n",
              "      <td>-73.81528</td>\n",
              "      <td>Private room</td>\n",
              "      <td>135</td>\n",
              "      <td>1</td>\n",
              "      <td>0</td>\n",
              "      <td>NaN</td>\n",
              "      <td>NaN</td>\n",
              "      <td>18</td>\n",
              "      <td>309</td>\n",
              "    </tr>\n",
              "  </tbody>\n",
              "</table>\n",
              "</div>"
            ],
            "text/plain": [
              "             id  ... availability_365\n",
              "24152  19456810  ...               90\n",
              "24607  19785737  ...              180\n",
              "26734  21231543  ...              365\n",
              "26752  21243952  ...              365\n",
              "26753  21244035  ...              365\n",
              "26889  21311903  ...              365\n",
              "26891  21312075  ...              365\n",
              "26892  21312191  ...              365\n",
              "26893  21312225  ...              365\n",
              "26894  21312283  ...              355\n",
              "26895  21312330  ...              355\n",
              "26896  21312403  ...              362\n",
              "26897  21312440  ...              360\n",
              "26898  21312495  ...              362\n",
              "26899  21312549  ...              355\n",
              "26900  21312595  ...              355\n",
              "26901  21312687  ...              319\n",
              "26902  21312732  ...              309\n",
              "\n",
              "[18 rows x 16 columns]"
            ]
          },
          "metadata": {},
          "execution_count": 68
        }
      ]
    },
    {
      "cell_type": "code",
      "metadata": {
        "colab": {
          "base_uri": "https://localhost:8080/"
        },
        "id": "AvLyUuHXAWn_",
        "outputId": "d3276388-dc4a-4f54-ec22-168ed141c2a9"
      },
      "source": [
        "df[\"name\"].value_counts().head(10)"
      ],
      "execution_count": 65,
      "outputs": [
        {
          "output_type": "execute_result",
          "data": {
            "text/plain": [
              "Hillside Hotel                                18\n",
              "Home away from home                           17\n",
              "New york Multi-unit building                  16\n",
              "Brooklyn Apartment                            12\n",
              "Loft Suite @ The Box House Hotel              11\n",
              "Private Room                                  11\n",
              "Private room                                  10\n",
              "Artsy Private BR in Fort Greene Cumberland    10\n",
              "Beautiful Brooklyn Brownstone                  8\n",
              "Cozy Brooklyn Apartment                        8\n",
              "Name: name, dtype: int64"
            ]
          },
          "metadata": {},
          "execution_count": 65
        }
      ]
    },
    {
      "cell_type": "code",
      "metadata": {
        "colab": {
          "base_uri": "https://localhost:8080/",
          "height": 408
        },
        "id": "g1XVqsQYw4Bs",
        "outputId": "253be081-9dd2-4d6e-a077-0d24312daaff"
      },
      "source": [
        "df.head()"
      ],
      "execution_count": 9,
      "outputs": [
        {
          "output_type": "execute_result",
          "data": {
            "text/html": [
              "<div>\n",
              "<style scoped>\n",
              "    .dataframe tbody tr th:only-of-type {\n",
              "        vertical-align: middle;\n",
              "    }\n",
              "\n",
              "    .dataframe tbody tr th {\n",
              "        vertical-align: top;\n",
              "    }\n",
              "\n",
              "    .dataframe thead th {\n",
              "        text-align: right;\n",
              "    }\n",
              "</style>\n",
              "<table border=\"1\" class=\"dataframe\">\n",
              "  <thead>\n",
              "    <tr style=\"text-align: right;\">\n",
              "      <th></th>\n",
              "      <th>id</th>\n",
              "      <th>name</th>\n",
              "      <th>host_id</th>\n",
              "      <th>host_name</th>\n",
              "      <th>neighbourhood_group</th>\n",
              "      <th>neighbourhood</th>\n",
              "      <th>latitude</th>\n",
              "      <th>longitude</th>\n",
              "      <th>room_type</th>\n",
              "      <th>price</th>\n",
              "      <th>minimum_nights</th>\n",
              "      <th>number_of_reviews</th>\n",
              "      <th>last_review</th>\n",
              "      <th>reviews_per_month</th>\n",
              "      <th>calculated_host_listings_count</th>\n",
              "      <th>availability_365</th>\n",
              "    </tr>\n",
              "  </thead>\n",
              "  <tbody>\n",
              "    <tr>\n",
              "      <th>0</th>\n",
              "      <td>2539</td>\n",
              "      <td>Clean &amp; quiet apt home by the park</td>\n",
              "      <td>2787</td>\n",
              "      <td>John</td>\n",
              "      <td>Brooklyn</td>\n",
              "      <td>Kensington</td>\n",
              "      <td>40.64749</td>\n",
              "      <td>-73.97237</td>\n",
              "      <td>Private room</td>\n",
              "      <td>149</td>\n",
              "      <td>1</td>\n",
              "      <td>9</td>\n",
              "      <td>2018-10-19</td>\n",
              "      <td>0.21</td>\n",
              "      <td>6</td>\n",
              "      <td>365</td>\n",
              "    </tr>\n",
              "    <tr>\n",
              "      <th>1</th>\n",
              "      <td>2595</td>\n",
              "      <td>Skylit Midtown Castle</td>\n",
              "      <td>2845</td>\n",
              "      <td>Jennifer</td>\n",
              "      <td>Manhattan</td>\n",
              "      <td>Midtown</td>\n",
              "      <td>40.75362</td>\n",
              "      <td>-73.98377</td>\n",
              "      <td>Entire home/apt</td>\n",
              "      <td>225</td>\n",
              "      <td>1</td>\n",
              "      <td>45</td>\n",
              "      <td>2019-05-21</td>\n",
              "      <td>0.38</td>\n",
              "      <td>2</td>\n",
              "      <td>355</td>\n",
              "    </tr>\n",
              "    <tr>\n",
              "      <th>2</th>\n",
              "      <td>3647</td>\n",
              "      <td>THE VILLAGE OF HARLEM....NEW YORK !</td>\n",
              "      <td>4632</td>\n",
              "      <td>Elisabeth</td>\n",
              "      <td>Manhattan</td>\n",
              "      <td>Harlem</td>\n",
              "      <td>40.80902</td>\n",
              "      <td>-73.94190</td>\n",
              "      <td>Private room</td>\n",
              "      <td>150</td>\n",
              "      <td>3</td>\n",
              "      <td>0</td>\n",
              "      <td>NaN</td>\n",
              "      <td>NaN</td>\n",
              "      <td>1</td>\n",
              "      <td>365</td>\n",
              "    </tr>\n",
              "    <tr>\n",
              "      <th>3</th>\n",
              "      <td>3831</td>\n",
              "      <td>Cozy Entire Floor of Brownstone</td>\n",
              "      <td>4869</td>\n",
              "      <td>LisaRoxanne</td>\n",
              "      <td>Brooklyn</td>\n",
              "      <td>Clinton Hill</td>\n",
              "      <td>40.68514</td>\n",
              "      <td>-73.95976</td>\n",
              "      <td>Entire home/apt</td>\n",
              "      <td>89</td>\n",
              "      <td>1</td>\n",
              "      <td>270</td>\n",
              "      <td>2019-07-05</td>\n",
              "      <td>4.64</td>\n",
              "      <td>1</td>\n",
              "      <td>194</td>\n",
              "    </tr>\n",
              "    <tr>\n",
              "      <th>4</th>\n",
              "      <td>5022</td>\n",
              "      <td>Entire Apt: Spacious Studio/Loft by central park</td>\n",
              "      <td>7192</td>\n",
              "      <td>Laura</td>\n",
              "      <td>Manhattan</td>\n",
              "      <td>East Harlem</td>\n",
              "      <td>40.79851</td>\n",
              "      <td>-73.94399</td>\n",
              "      <td>Entire home/apt</td>\n",
              "      <td>80</td>\n",
              "      <td>10</td>\n",
              "      <td>9</td>\n",
              "      <td>2018-11-19</td>\n",
              "      <td>0.10</td>\n",
              "      <td>1</td>\n",
              "      <td>0</td>\n",
              "    </tr>\n",
              "  </tbody>\n",
              "</table>\n",
              "</div>"
            ],
            "text/plain": [
              "     id  ... availability_365\n",
              "0  2539  ...              365\n",
              "1  2595  ...              355\n",
              "2  3647  ...              365\n",
              "3  3831  ...              194\n",
              "4  5022  ...                0\n",
              "\n",
              "[5 rows x 16 columns]"
            ]
          },
          "metadata": {},
          "execution_count": 9
        }
      ]
    },
    {
      "cell_type": "code",
      "metadata": {
        "id": "xUsHUki09ymx"
      },
      "source": [
        "df.drop([\"latitude\",'longitude'],axis =1,inplace=True)"
      ],
      "execution_count": 10,
      "outputs": []
    },
    {
      "cell_type": "code",
      "metadata": {
        "colab": {
          "base_uri": "https://localhost:8080/"
        },
        "id": "SiPO34AGG4gn",
        "outputId": "a033beba-d1da-466b-9e32-0998ad3c5d9e"
      },
      "source": [
        "df.shape"
      ],
      "execution_count": 11,
      "outputs": [
        {
          "output_type": "execute_result",
          "data": {
            "text/plain": [
              "(48895, 14)"
            ]
          },
          "metadata": {},
          "execution_count": 11
        }
      ]
    },
    {
      "cell_type": "markdown",
      "metadata": {
        "id": "U5WA-MDS-Ypn"
      },
      "source": [
        "# 1. Neighbourhood groups with most neighbourhood"
      ]
    },
    {
      "cell_type": "code",
      "metadata": {
        "colab": {
          "base_uri": "https://localhost:8080/"
        },
        "id": "4E2H0LxVBEIu",
        "outputId": "c679a23f-4bf9-44ac-c7ae-3ef2323448ae"
      },
      "source": [
        "df['neighbourhood_group'].unique()"
      ],
      "execution_count": 20,
      "outputs": [
        {
          "output_type": "execute_result",
          "data": {
            "text/plain": [
              "array(['Brooklyn', 'Manhattan', 'Queens', 'Staten Island', 'Bronx'],\n",
              "      dtype=object)"
            ]
          },
          "metadata": {},
          "execution_count": 20
        }
      ]
    },
    {
      "cell_type": "code",
      "metadata": {
        "colab": {
          "base_uri": "https://localhost:8080/"
        },
        "id": "imK4fCE-Ad0P",
        "outputId": "1820285b-ebab-434b-d189-ab616b30bdd7"
      },
      "source": [
        "df.groupby('neighbourhood_group')[\"neighbourhood\"].count()"
      ],
      "execution_count": 21,
      "outputs": [
        {
          "output_type": "execute_result",
          "data": {
            "text/plain": [
              "neighbourhood_group\n",
              "Bronx             1091\n",
              "Brooklyn         20104\n",
              "Manhattan        21661\n",
              "Queens            5666\n",
              "Staten Island      373\n",
              "Name: neighbourhood, dtype: int64"
            ]
          },
          "metadata": {},
          "execution_count": 21
        }
      ]
    },
    {
      "cell_type": "code",
      "metadata": {
        "id": "-uTBZoar_pk0"
      },
      "source": [
        "temp_df = df[df['neighbourhood_group']==\"Brooklyn\"][['neighbourhood_group',\"neighbourhood\"]]"
      ],
      "execution_count": 22,
      "outputs": []
    },
    {
      "cell_type": "code",
      "metadata": {
        "colab": {
          "base_uri": "https://localhost:8080/"
        },
        "id": "EfEYvnXEADjY",
        "outputId": "fdd42900-1aca-4518-8253-c14732b98b54"
      },
      "source": [
        "print(len(temp_df[\"neighbourhood\"].unique()))\n",
        "temp_df[\"neighbourhood\"].unique()"
      ],
      "execution_count": 61,
      "outputs": [
        {
          "output_type": "stream",
          "name": "stdout",
          "text": [
            "47\n"
          ]
        },
        {
          "output_type": "execute_result",
          "data": {
            "text/plain": [
              "array(['Kensington', 'Clinton Hill', 'Bedford-Stuyvesant', 'South Slope',\n",
              "       'Williamsburg', 'Fort Greene', 'Crown Heights', 'Park Slope',\n",
              "       'Windsor Terrace', 'Greenpoint', 'Bushwick', 'Flatbush',\n",
              "       'Prospect-Lefferts Gardens', 'Prospect Heights',\n",
              "       'Brooklyn Heights', 'Carroll Gardens', 'Gowanus', 'Flatlands',\n",
              "       'Cobble Hill', 'Boerum Hill', 'DUMBO', 'East Flatbush',\n",
              "       'Gravesend', 'East New York', 'Sheepshead Bay', 'Fort Hamilton',\n",
              "       'Bensonhurst', 'Sunset Park', 'Brighton Beach', 'Cypress Hills',\n",
              "       'Bay Ridge', 'Columbia St', 'Vinegar Hill', 'Canarsie',\n",
              "       'Borough Park', 'Downtown Brooklyn', 'Midwood', 'Red Hook',\n",
              "       'Dyker Heights', 'Sea Gate', 'Navy Yard', 'Brownsville',\n",
              "       'Manhattan Beach', 'Bergen Beach', 'Coney Island', 'Bath Beach',\n",
              "       'Mill Basin'], dtype=object)"
            ]
          },
          "metadata": {},
          "execution_count": 61
        }
      ]
    },
    {
      "cell_type": "code",
      "metadata": {
        "colab": {
          "base_uri": "https://localhost:8080/"
        },
        "id": "WsRYDnKYAQCx",
        "outputId": "ed253b72-d06f-48c6-b904-9215f248c6d9"
      },
      "source": [
        "temp_df[\"neighbourhood\"].value_counts()"
      ],
      "execution_count": 24,
      "outputs": [
        {
          "output_type": "execute_result",
          "data": {
            "text/plain": [
              "Williamsburg                 3920\n",
              "Bedford-Stuyvesant           3714\n",
              "Bushwick                     2465\n",
              "Crown Heights                1564\n",
              "Greenpoint                   1115\n",
              "Flatbush                      621\n",
              "Clinton Hill                  572\n",
              "Prospect-Lefferts Gardens     535\n",
              "Park Slope                    506\n",
              "East Flatbush                 500\n",
              "Fort Greene                   489\n",
              "Sunset Park                   390\n",
              "Prospect Heights              357\n",
              "South Slope                   284\n",
              "Gowanus                       247\n",
              "Carroll Gardens               233\n",
              "East New York                 218\n",
              "Boerum Hill                   177\n",
              "Kensington                    175\n",
              "Sheepshead Bay                164\n",
              "Windsor Terrace               157\n",
              "Brooklyn Heights              154\n",
              "Canarsie                      147\n",
              "Bay Ridge                     141\n",
              "Borough Park                  136\n",
              "Cypress Hills                 135\n",
              "Midwood                       109\n",
              "Cobble Hill                    99\n",
              "Downtown Brooklyn              83\n",
              "Flatlands                      83\n",
              "Red Hook                       79\n",
              "Bensonhurst                    75\n",
              "Brighton Beach                 75\n",
              "Gravesend                      68\n",
              "Brownsville                    61\n",
              "Fort Hamilton                  55\n",
              "Columbia St                    42\n",
              "DUMBO                          36\n",
              "Vinegar Hill                   34\n",
              "Coney Island                   17\n",
              "Bath Beach                     17\n",
              "Navy Yard                      14\n",
              "Dyker Heights                  12\n",
              "Bergen Beach                   10\n",
              "Manhattan Beach                 8\n",
              "Sea Gate                        7\n",
              "Mill Basin                      4\n",
              "Name: neighbourhood, dtype: int64"
            ]
          },
          "metadata": {},
          "execution_count": 24
        }
      ]
    },
    {
      "cell_type": "markdown",
      "metadata": {
        "id": "nifMFXTSDJJt"
      },
      "source": [
        "# 2 Rooms type / cost / count"
      ]
    },
    {
      "cell_type": "code",
      "metadata": {
        "colab": {
          "base_uri": "https://localhost:8080/"
        },
        "id": "JQo8hAKoBVg4",
        "outputId": "d383e969-f3d7-43ed-dda2-79170413aab4"
      },
      "source": [
        "df['room_type'].unique()"
      ],
      "execution_count": 25,
      "outputs": [
        {
          "output_type": "execute_result",
          "data": {
            "text/plain": [
              "array(['Private room', 'Entire home/apt', 'Shared room'], dtype=object)"
            ]
          },
          "metadata": {},
          "execution_count": 25
        }
      ]
    },
    {
      "cell_type": "code",
      "metadata": {
        "colab": {
          "base_uri": "https://localhost:8080/"
        },
        "id": "0rkBqK-jCvGQ",
        "outputId": "be8b4c48-c3b8-4ccd-ece6-7cb76604c70f"
      },
      "source": [
        "price_df['room_type'].value_counts()"
      ],
      "execution_count": 26,
      "outputs": [
        {
          "output_type": "execute_result",
          "data": {
            "text/plain": [
              "Entire home/apt    25409\n",
              "Private room       22326\n",
              "Shared room         1160\n",
              "Name: room_type, dtype: int64"
            ]
          },
          "metadata": {},
          "execution_count": 26
        }
      ]
    },
    {
      "cell_type": "code",
      "metadata": {
        "id": "T84Ht7vrCON-"
      },
      "source": [
        "price_df = df.loc[:,['price','room_type']]"
      ],
      "execution_count": 27,
      "outputs": []
    },
    {
      "cell_type": "code",
      "metadata": {
        "colab": {
          "base_uri": "https://localhost:8080/"
        },
        "id": "c-L7d0DoFDWU",
        "outputId": "e96dc687-bf9b-4cd9-fd98-35f6f065f8c9"
      },
      "source": [
        "\n",
        "df.groupby(['neighbourhood_group',\"room_type\"])['price'].mean()"
      ],
      "execution_count": 70,
      "outputs": [
        {
          "output_type": "execute_result",
          "data": {
            "text/plain": [
              "neighbourhood_group  room_type      \n",
              "Bronx                Entire home/apt    127.506596\n",
              "                     Private room        66.788344\n",
              "                     Shared room         59.800000\n",
              "Brooklyn             Entire home/apt    178.327545\n",
              "                     Private room        76.500099\n",
              "                     Shared room         50.527845\n",
              "Manhattan            Entire home/apt    249.239109\n",
              "                     Private room       116.776622\n",
              "                     Shared room         88.977083\n",
              "Queens               Entire home/apt    147.050573\n",
              "                     Private room        71.762456\n",
              "                     Shared room         69.020202\n",
              "Staten Island        Entire home/apt    173.846591\n",
              "                     Private room        62.292553\n",
              "                     Shared room         57.444444\n",
              "Name: price, dtype: float64"
            ]
          },
          "metadata": {},
          "execution_count": 70
        }
      ]
    },
    {
      "cell_type": "code",
      "metadata": {
        "colab": {
          "base_uri": "https://localhost:8080/"
        },
        "id": "ojy6X-OnCjR8",
        "outputId": "cebf8fe3-704b-4ba5-cc35-193382d53cad"
      },
      "source": [
        "price_df.groupby(\"room_type\")['price'].mean()"
      ],
      "execution_count": 28,
      "outputs": [
        {
          "output_type": "execute_result",
          "data": {
            "text/plain": [
              "room_type\n",
              "Entire home/apt    211.794246\n",
              "Private room        89.780973\n",
              "Shared room         70.127586\n",
              "Name: price, dtype: float64"
            ]
          },
          "metadata": {},
          "execution_count": 28
        }
      ]
    },
    {
      "cell_type": "code",
      "metadata": {
        "colab": {
          "base_uri": "https://localhost:8080/"
        },
        "id": "lkxsfkHq6FjQ",
        "outputId": "549ea8de-7aa8-48b0-adf9-8d57917677ad"
      },
      "source": [
        "new0 = price_df[price_df['price']>=1000]\n",
        "print(len(new0))\n",
        "new0.groupby(\"room_type\")['price'].mean()"
      ],
      "execution_count": 60,
      "outputs": [
        {
          "output_type": "stream",
          "name": "stdout",
          "text": [
            "298\n"
          ]
        },
        {
          "output_type": "execute_result",
          "data": {
            "text/plain": [
              "room_type\n",
              "Entire home/apt    2165.156379\n",
              "Private room       2372.215686\n",
              "Shared room        1262.500000\n",
              "Name: price, dtype: float64"
            ]
          },
          "metadata": {},
          "execution_count": 60
        }
      ]
    },
    {
      "cell_type": "code",
      "metadata": {
        "colab": {
          "base_uri": "https://localhost:8080/"
        },
        "id": "76xZEiON3wzX",
        "outputId": "12233654-1b09-4a39-f19c-00b0b3873aff"
      },
      "source": [
        "new = price_df[~(price_df['price']==0)]\n",
        "new.groupby(\"room_type\")['price'].mean()"
      ],
      "execution_count": 53,
      "outputs": [
        {
          "output_type": "execute_result",
          "data": {
            "text/plain": [
              "room_type\n",
              "Entire home/apt    211.810918\n",
              "Private room        89.809131\n",
              "Shared room         70.248705\n",
              "Name: price, dtype: float64"
            ]
          },
          "metadata": {},
          "execution_count": 53
        }
      ]
    },
    {
      "cell_type": "code",
      "metadata": {
        "id": "N2n7_qnvE996"
      },
      "source": [
        ""
      ],
      "execution_count": null,
      "outputs": []
    },
    {
      "cell_type": "code",
      "metadata": {
        "colab": {
          "base_uri": "https://localhost:8080/"
        },
        "id": "drv6t1z-5Mv1",
        "outputId": "a6b6ca7f-419c-4cc6-d28d-49d321ec554a"
      },
      "source": [
        "new_ =  new[~(new['price']==10000)]\n",
        "new_.groupby(\"room_type\")['price'].mean()"
      ],
      "execution_count": 54,
      "outputs": [
        {
          "output_type": "execute_result",
          "data": {
            "text/plain": [
              "room_type\n",
              "Entire home/apt    211.040346\n",
              "Private room        89.365086\n",
              "Shared room         70.248705\n",
              "Name: price, dtype: float64"
            ]
          },
          "metadata": {},
          "execution_count": 54
        }
      ]
    },
    {
      "cell_type": "code",
      "metadata": {
        "colab": {
          "base_uri": "https://localhost:8080/"
        },
        "id": "Nb2Fawgq4xRq",
        "outputId": "3b7caec9-b164-4709-edb7-7928b941ebee"
      },
      "source": [
        "new = price_df[~(price_df['price']==10000)]\n",
        "new.groupby(\"room_type\")['price'].mean()"
      ],
      "execution_count": 51,
      "outputs": [
        {
          "output_type": "execute_result",
          "data": {
            "text/plain": [
              "room_type\n",
              "Entire home/apt    211.023734\n",
              "Private room        89.337066\n",
              "Shared room         70.127586\n",
              "Name: price, dtype: float64"
            ]
          },
          "metadata": {},
          "execution_count": 51
        }
      ]
    },
    {
      "cell_type": "code",
      "metadata": {
        "colab": {
          "base_uri": "https://localhost:8080/"
        },
        "id": "kQXqiDOQ3BXV",
        "outputId": "07b83edb-7053-4125-ccdf-f39088c621b9"
      },
      "source": [
        "price_df.groupby(\"room_type\")['price'].max()"
      ],
      "execution_count": 29,
      "outputs": [
        {
          "output_type": "execute_result",
          "data": {
            "text/plain": [
              "room_type\n",
              "Entire home/apt    10000\n",
              "Private room       10000\n",
              "Shared room         1800\n",
              "Name: price, dtype: int64"
            ]
          },
          "metadata": {},
          "execution_count": 29
        }
      ]
    },
    {
      "cell_type": "code",
      "metadata": {
        "colab": {
          "base_uri": "https://localhost:8080/"
        },
        "id": "V_NyNiRj3pdc",
        "outputId": "4f6e10c5-19ce-46a5-852a-2fbade78d672"
      },
      "source": [
        "price_df.groupby(\"room_type\")['price'].min()"
      ],
      "execution_count": 31,
      "outputs": [
        {
          "output_type": "execute_result",
          "data": {
            "text/plain": [
              "room_type\n",
              "Entire home/apt    0\n",
              "Private room       0\n",
              "Shared room        0\n",
              "Name: price, dtype: int64"
            ]
          },
          "metadata": {},
          "execution_count": 31
        }
      ]
    },
    {
      "cell_type": "code",
      "metadata": {
        "colab": {
          "base_uri": "https://localhost:8080/",
          "height": 262
        },
        "id": "3NZTAywW2V9s",
        "outputId": "7ace4967-af04-4c81-9b11-116f61aff5e9"
      },
      "source": [
        "df.head(3)"
      ],
      "execution_count": 30,
      "outputs": [
        {
          "output_type": "execute_result",
          "data": {
            "text/html": [
              "<div>\n",
              "<style scoped>\n",
              "    .dataframe tbody tr th:only-of-type {\n",
              "        vertical-align: middle;\n",
              "    }\n",
              "\n",
              "    .dataframe tbody tr th {\n",
              "        vertical-align: top;\n",
              "    }\n",
              "\n",
              "    .dataframe thead th {\n",
              "        text-align: right;\n",
              "    }\n",
              "</style>\n",
              "<table border=\"1\" class=\"dataframe\">\n",
              "  <thead>\n",
              "    <tr style=\"text-align: right;\">\n",
              "      <th></th>\n",
              "      <th>id</th>\n",
              "      <th>name</th>\n",
              "      <th>host_id</th>\n",
              "      <th>host_name</th>\n",
              "      <th>neighbourhood_group</th>\n",
              "      <th>neighbourhood</th>\n",
              "      <th>room_type</th>\n",
              "      <th>price</th>\n",
              "      <th>minimum_nights</th>\n",
              "      <th>number_of_reviews</th>\n",
              "      <th>last_review</th>\n",
              "      <th>reviews_per_month</th>\n",
              "      <th>calculated_host_listings_count</th>\n",
              "      <th>availability_365</th>\n",
              "    </tr>\n",
              "  </thead>\n",
              "  <tbody>\n",
              "    <tr>\n",
              "      <th>0</th>\n",
              "      <td>2539</td>\n",
              "      <td>Clean &amp; quiet apt home by the park</td>\n",
              "      <td>2787</td>\n",
              "      <td>John</td>\n",
              "      <td>Brooklyn</td>\n",
              "      <td>Kensington</td>\n",
              "      <td>Private room</td>\n",
              "      <td>149</td>\n",
              "      <td>1</td>\n",
              "      <td>9</td>\n",
              "      <td>2018-10-19</td>\n",
              "      <td>0.21</td>\n",
              "      <td>6</td>\n",
              "      <td>365</td>\n",
              "    </tr>\n",
              "    <tr>\n",
              "      <th>1</th>\n",
              "      <td>2595</td>\n",
              "      <td>Skylit Midtown Castle</td>\n",
              "      <td>2845</td>\n",
              "      <td>Jennifer</td>\n",
              "      <td>Manhattan</td>\n",
              "      <td>Midtown</td>\n",
              "      <td>Entire home/apt</td>\n",
              "      <td>225</td>\n",
              "      <td>1</td>\n",
              "      <td>45</td>\n",
              "      <td>2019-05-21</td>\n",
              "      <td>0.38</td>\n",
              "      <td>2</td>\n",
              "      <td>355</td>\n",
              "    </tr>\n",
              "    <tr>\n",
              "      <th>2</th>\n",
              "      <td>3647</td>\n",
              "      <td>THE VILLAGE OF HARLEM....NEW YORK !</td>\n",
              "      <td>4632</td>\n",
              "      <td>Elisabeth</td>\n",
              "      <td>Manhattan</td>\n",
              "      <td>Harlem</td>\n",
              "      <td>Private room</td>\n",
              "      <td>150</td>\n",
              "      <td>3</td>\n",
              "      <td>0</td>\n",
              "      <td>NaN</td>\n",
              "      <td>NaN</td>\n",
              "      <td>1</td>\n",
              "      <td>365</td>\n",
              "    </tr>\n",
              "  </tbody>\n",
              "</table>\n",
              "</div>"
            ],
            "text/plain": [
              "     id  ... availability_365\n",
              "0  2539  ...              365\n",
              "1  2595  ...              355\n",
              "2  3647  ...              365\n",
              "\n",
              "[3 rows x 14 columns]"
            ]
          },
          "metadata": {},
          "execution_count": 30
        }
      ]
    }
  ]
}